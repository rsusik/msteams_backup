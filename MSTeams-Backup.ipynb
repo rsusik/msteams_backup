{
 "cells": [
  {
   "cell_type": "markdown",
   "metadata": {},
   "source": [
    "# MS Teams archive tool - about\n",
    "\n",
    "This is MS Teams archive tool that saves the conversation of chats and teams.\n",
    "It is written for archiving the MS Teams chats of Lodz University of Technology, but probably may be easily adapted for other cases.\n",
    "\n",
    "## Requirements\n",
    "\n",
    "Following packages are required:\n",
    "* Python 3\n",
    "* Selenium\n",
    "* gecodriver (firefox)\n",
    "\n",
    "Gecodriver (binary file) should be stored in `/bin` location (for conda it is `/home/[USER]/.conda/envs/[ENV_NAME]/bin`).\n",
    "\n",
    "When completed there should be a number of files created in `output_path`, including screenshots and texts. The texts require post-processing to look nicely. Nevertheless, may be considered as archive.\n",
    "\n",
    "The output of the script should look like below (Note that for Teams it only supports the \"General\" channel):\n",
    "\n",
    "```\n",
    "[output_path]\n",
    "├── chats\n",
    "│   ├── Adam aaa, Adam aaa, Alicja aaa, Bartosz aaa, ...\n",
    "│   │   ├── screenshots\n",
    "│   │   │   ├── 0.png\n",
    "│   │   │   ├── 1.png\n",
    "│   │   │   ├── 2.png\n",
    "│   │   │   ├── ...\n",
    "│   │   └── txt\n",
    "│   │       ├── 0.txt\n",
    "│   │       ├── 1.txt\n",
    "│   │       ├── 2.txt\n",
    "│   │       ├── ...\n",
    "│   ├── ...\n",
    "│   │   ├── screenshots\n",
    "│   │   │   ├── 0.png\n",
    "│   │   │   ├── 1.png\n",
    "│   │   │   ├── 2.png\n",
    "│   │   │   └── ...\n",
    "│   │   └── txt\n",
    "│   │       ├── 0.txt\n",
    "│   │       ├── 1.txt\n",
    "│   │       ├── 2.txt\n",
    "│   │       └── ...\n",
    "├── teams\n",
    "│   ├── 20-2020-ETE2_General\n",
    "│   │   ├── screenshots\n",
    "│   │   │   ├── 0.png\n",
    "│   │   │   ├── 1.png\n",
    "│   │   │   ├── 2.png\n",
    "│   │   │   ├── ...\n",
    "│   │   └── txt\n",
    "│   │       ├── 0.txt\n",
    "│   │       ├── 1.txt\n",
    "│   │       ├── 2.txt\n",
    "│   │       ├── ...\n",
    "│   ├── 20-2020-SMPD-01_General\n",
    "│   │   ├── screenshots\n",
    "│   │   │   └── 0.png\n",
    "│   │   └── txt\n",
    "│   │       └── 0.txt\n",
    "│   ├── ...\n",
    "\n",
    "```\n",
    "\n",
    "*Note: This script is not supported and may not work in future.*\n"
   ]
  },
  {
   "cell_type": "markdown",
   "metadata": {},
   "source": [
    "# Configuration"
   ]
  },
  {
   "cell_type": "code",
   "execution_count": null,
   "metadata": {},
   "outputs": [],
   "source": [
    "import os, time, selenium\n",
    "from selenium import webdriver\n",
    "from tqdm import tqdm\n",
    "import re"
   ]
  },
  {
   "cell_type": "code",
   "execution_count": null,
   "metadata": {},
   "outputs": [],
   "source": [
    "url = \"https://teams.microsoft.com/_#/school/conversations/General\"\n",
    "output_path = '/tmp'\n",
    "email = 'PROVIDE YOUR EMAIL ADDRESS'\n",
    "password = 'PROVIDE YOUR PASSWORD'"
   ]
  },
  {
   "cell_type": "code",
   "execution_count": null,
   "metadata": {},
   "outputs": [],
   "source": [
    "options = webdriver.FirefoxOptions()\n",
    "#options.add_argument(\"--headless\")\n",
    "driver = webdriver.Firefox(options=options)\n",
    "driver.set_window_size(1440, 1200)"
   ]
  },
  {
   "cell_type": "code",
   "execution_count": null,
   "metadata": {},
   "outputs": [],
   "source": [
    "driver.get(url) # this may take some time\n",
    "time.sleep(30) "
   ]
  },
  {
   "cell_type": "markdown",
   "metadata": {},
   "source": [
    "# Prepare MS Teams - provide credentials, etc."
   ]
  },
  {
   "cell_type": "markdown",
   "metadata": {},
   "source": [
    "## Provide username (email)"
   ]
  },
  {
   "cell_type": "code",
   "execution_count": null,
   "metadata": {},
   "outputs": [],
   "source": [
    "if 'authorize' in driver.current_url:\n",
    "    login_fmt = driver.find_element_by_name(\"loginfmt\")\n",
    "    login_fmt.send_keys(email)\n",
    "    login_fmt.send_keys(u'\\ue007') # hit enter\n",
    "    time.sleep(10)"
   ]
  },
  {
   "cell_type": "markdown",
   "metadata": {},
   "source": [
    "## CAS Form"
   ]
  },
  {
   "cell_type": "code",
   "execution_count": null,
   "metadata": {},
   "outputs": [],
   "source": [
    "if 'cas' in driver.current_url:\n",
    "    username_field = driver.find_element_by_name(\"username\")\n",
    "    password_field = driver.find_element_by_name(\"password\")\n",
    "    username_field.send_keys(email)\n",
    "    password_field.send_keys(password)\n",
    "    password_field.send_keys(u'\\ue007')\n",
    "    time.sleep(10)"
   ]
  },
  {
   "cell_type": "markdown",
   "metadata": {},
   "source": [
    "## Back to Teams, click stay signed in"
   ]
  },
  {
   "cell_type": "code",
   "execution_count": null,
   "metadata": {},
   "outputs": [],
   "source": [
    "try:\n",
    "    driver.find_element_by_xpath('//input[@type=\"submit\"]').click()\n",
    "    time.sleep(10)\n",
    "except Exception as ex:\n",
    "    print(f'WARNING: {ex}')"
   ]
  },
  {
   "cell_type": "markdown",
   "metadata": {},
   "source": [
    "## Answer to use web app instead of dektop / phone app"
   ]
  },
  {
   "cell_type": "code",
   "execution_count": null,
   "metadata": {},
   "outputs": [],
   "source": [
    "try:\n",
    "    driver.find_element_by_xpath('//a[@class=\"use-app-lnk\"]').click()\n",
    "    time.sleep(10)\n",
    "except Exception as ex:\n",
    "    print(f'WARNING: {ex}')"
   ]
  },
  {
   "cell_type": "markdown",
   "metadata": {},
   "source": [
    "## Dismiss pop-up notification"
   ]
  },
  {
   "cell_type": "code",
   "execution_count": null,
   "metadata": {},
   "outputs": [],
   "source": [
    "try:\n",
    "    driver.find_element_by_xpath('//button[@title=\"Dismiss\"]').click()\n",
    "    time.sleep(1)\n",
    "except Exception as ex:\n",
    "    print(f'WARNING: {ex}')"
   ]
  },
  {
   "cell_type": "markdown",
   "metadata": {},
   "source": [
    "# Go through all chats, take screenshots and save text"
   ]
  },
  {
   "cell_type": "code",
   "execution_count": null,
   "metadata": {},
   "outputs": [],
   "source": [
    "driver.find_element_by_xpath('//button[@aria-label=\"Chat Toolbar\"]').click()\n",
    "time.sleep(2)"
   ]
  },
  {
   "cell_type": "code",
   "execution_count": null,
   "metadata": {},
   "outputs": [],
   "source": [
    "print('Saving chats...')\n",
    "\n",
    "chat_divs = driver.find_elements_by_class_name('recipient-group-list-item')\n",
    "for i, chat_div in enumerate(tqdm(chat_divs)):\n",
    "    time.sleep(2); chat_div.click()\n",
    "    \n",
    "    foldername = chat_div.get_attribute('data-tid').replace('chat-li-entry-with-', '')[:100]\n",
    "    os.makedirs(f'{output_path}/chats/{foldername}', exist_ok=True)\n",
    "    os.makedirs(f'{output_path}/chats/{foldername}/screenshots', exist_ok=True)\n",
    "    os.makedirs(f'{output_path}/chats/{foldername}/txt', exist_ok=True)\n",
    "    \n",
    "    j = 0\n",
    "    while(True):\n",
    "        before_scroll = driver.get_screenshot_as_base64()\n",
    "        driver.save_screenshot(f'{output_path}/chats/{foldername}/screenshots/{j}.png')\n",
    "        \n",
    "        chat_converation = driver.find_element_by_tag_name('messages-header').text\n",
    "        with open(f'/{output_path}/chats/{foldername}/txt/{j}.txt', 'wt') as f:\n",
    "            f.write(chat_converation)\n",
    "        \n",
    "        # next page - scroll\n",
    "        time.sleep(2)\n",
    "        try:\n",
    "            driver.find_element_by_xpath('//virtual-repeat[@vr-item-name=\"thread\"]').send_keys(selenium.webdriver.common.keys.Keys.PAGE_UP)\n",
    "        except Exception:\n",
    "            break\n",
    "        after_scroll = driver.get_screenshot_as_base64()\n",
    "        if before_scroll == after_scroll: # break if nothing changed after scroll\n",
    "            break\n",
    "        j += 1\n",
    "\n",
    "        "
   ]
  },
  {
   "cell_type": "markdown",
   "metadata": {},
   "source": [
    "# The same for teams"
   ]
  },
  {
   "cell_type": "code",
   "execution_count": null,
   "metadata": {},
   "outputs": [],
   "source": [
    "print('Saving Teams conversation...')\n",
    "driver.find_element_by_xpath('//button[@aria-label=\"Teams Toolbar\"]').click()\n",
    "\n",
    "# only \"General\" chats\n",
    "chat_divs = driver.find_elements_by_xpath('//li[@acc-role-dom=\"tree-node\" and @role=\"treeitem\" and @aria-level=\"2\"]')\n",
    "for i, chat_div in enumerate(tqdm(chat_divs)):\n",
    "    time.sleep(2); chat_div.click()\n",
    "    \n",
    "    foldername = re.sub(r'\\s+', '_', chat_div.text)[:100]\n",
    "    os.makedirs(f'{output_path}/teams/{foldername}', exist_ok=True)\n",
    "    os.makedirs(f'{output_path}/teams/{foldername}/screenshots', exist_ok=True)\n",
    "    os.makedirs(f'{output_path}/teams/{foldername}/txt', exist_ok=True)\n",
    "    \n",
    "    j = 0\n",
    "    while(True):\n",
    "        before_scroll = driver.get_screenshot_as_base64()\n",
    "        driver.save_screenshot(f'{output_path}/teams/{foldername}/screenshots/{j}.png')\n",
    "        \n",
    "        chat_converation = driver.find_element_by_tag_name('messages-header').text\n",
    "        with open(f'/{output_path}/teams/{foldername}/txt/{j}.txt', 'wt') as f:\n",
    "            f.write(chat_converation)\n",
    "        \n",
    "        # next page - scroll\n",
    "        time.sleep(2)\n",
    "        try:\n",
    "            driver.find_element_by_xpath('//virtual-repeat[@vr-item-name=\"thread\"]').send_keys(selenium.webdriver.common.keys.Keys.PAGE_UP)\n",
    "        except Exception:\n",
    "            break\n",
    "        after_scroll = driver.get_screenshot_as_base64()\n",
    "        if before_scroll == after_scroll: # break if nothing changed after scroll\n",
    "            break\n",
    "        j += 1"
   ]
  },
  {
   "cell_type": "markdown",
   "metadata": {},
   "source": [
    "# Finish"
   ]
  },
  {
   "cell_type": "code",
   "execution_count": null,
   "metadata": {},
   "outputs": [],
   "source": [
    "driver.quit()"
   ]
  },
  {
   "cell_type": "code",
   "execution_count": null,
   "metadata": {},
   "outputs": [],
   "source": []
  }
 ],
 "metadata": {
  "kernelspec": {
   "display_name": "Python 3",
   "language": "python",
   "name": "python3"
  },
  "language_info": {
   "codemirror_mode": {
    "name": "ipython",
    "version": 3
   },
   "file_extension": ".py",
   "mimetype": "text/x-python",
   "name": "python",
   "nbconvert_exporter": "python",
   "pygments_lexer": "ipython3",
   "version": "3.7.4"
  },
  "toc": {
   "base_numbering": 1,
   "nav_menu": {},
   "number_sections": true,
   "sideBar": true,
   "skip_h1_title": false,
   "title_cell": "Table of Contents",
   "title_sidebar": "Contents",
   "toc_cell": false,
   "toc_position": {},
   "toc_section_display": true,
   "toc_window_display": true
  }
 },
 "nbformat": 4,
 "nbformat_minor": 4
}
